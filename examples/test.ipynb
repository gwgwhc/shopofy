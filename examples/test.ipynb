{
 "cells": [
  {
   "cell_type": "code",
   "execution_count": 25,
   "id": "fbf2caec",
   "metadata": {},
   "outputs": [],
   "source": [
    "from shopofy import rqmap"
   ]
  },
  {
   "cell_type": "code",
   "execution_count": 26,
   "id": "6bb9dd46",
   "metadata": {},
   "outputs": [],
   "source": [
    "generated = rqmap.generate_rqmap()"
   ]
  },
  {
   "cell_type": "code",
   "execution_count": 27,
   "id": "43b08097",
   "metadata": {},
   "outputs": [],
   "source": [
    "fromfile = rqmap.load_rqmap(\"rqmap1.csv\")"
   ]
  },
  {
   "cell_type": "code",
   "execution_count": 28,
   "id": "073658d5",
   "metadata": {},
   "outputs": [
    {
     "data": {
      "text/plain": [
       "59.375059"
      ]
     },
     "execution_count": 28,
     "metadata": {},
     "output_type": "execute_result"
    }
   ],
   "source": [
    "rqmap.get_position(fromfile, 45)"
   ]
  },
  {
   "cell_type": "code",
   "execution_count": 29,
   "id": "1c029e68",
   "metadata": {},
   "outputs": [
    {
     "data": {
      "text/plain": [
       "59.37505937505938"
      ]
     },
     "execution_count": 29,
     "metadata": {},
     "output_type": "execute_result"
    }
   ],
   "source": [
    "rqmap.get_position(generated, 45)"
   ]
  }
 ],
 "metadata": {
  "kernelspec": {
   "display_name": "base",
   "language": "python",
   "name": "python3"
  },
  "language_info": {
   "codemirror_mode": {
    "name": "ipython",
    "version": 3
   },
   "file_extension": ".py",
   "mimetype": "text/x-python",
   "name": "python",
   "nbconvert_exporter": "python",
   "pygments_lexer": "ipython3",
   "version": "3.12.7"
  }
 },
 "nbformat": 4,
 "nbformat_minor": 5
}
